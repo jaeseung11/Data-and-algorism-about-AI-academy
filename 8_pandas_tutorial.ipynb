{
 "cells": [
  {
   "cell_type": "code",
   "execution_count": 2,
   "metadata": {},
   "outputs": [
    {
     "data": {
      "text/html": [
       "<div>\n",
       "<style scoped>\n",
       "    .dataframe tbody tr th:only-of-type {\n",
       "        vertical-align: middle;\n",
       "    }\n",
       "\n",
       "    .dataframe tbody tr th {\n",
       "        vertical-align: top;\n",
       "    }\n",
       "\n",
       "    .dataframe thead th {\n",
       "        text-align: right;\n",
       "    }\n",
       "</style>\n",
       "<table border=\"1\" class=\"dataframe\">\n",
       "  <thead>\n",
       "    <tr style=\"text-align: right;\">\n",
       "      <th></th>\n",
       "      <th>이름</th>\n",
       "      <th>나이</th>\n",
       "      <th>도시</th>\n",
       "    </tr>\n",
       "  </thead>\n",
       "  <tbody>\n",
       "    <tr>\n",
       "      <th>0</th>\n",
       "      <td>Alice</td>\n",
       "      <td>25</td>\n",
       "      <td>뉴욕</td>\n",
       "    </tr>\n",
       "    <tr>\n",
       "      <th>1</th>\n",
       "      <td>Bob</td>\n",
       "      <td>30</td>\n",
       "      <td>파리</td>\n",
       "    </tr>\n",
       "    <tr>\n",
       "      <th>2</th>\n",
       "      <td>Charlie</td>\n",
       "      <td>35</td>\n",
       "      <td>런던</td>\n",
       "    </tr>\n",
       "  </tbody>\n",
       "</table>\n",
       "</div>"
      ],
      "text/plain": [
       "        이름  나이  도시\n",
       "0    Alice  25  뉴욕\n",
       "1      Bob  30  파리\n",
       "2  Charlie  35  런던"
      ]
     },
     "execution_count": 2,
     "metadata": {},
     "output_type": "execute_result"
    }
   ],
   "source": [
    "# Lesson: 파이썬 Pandas 초급 튜토리얼\n",
    "\n",
    "# Pandas 가져오기\n",
    "import pandas as pd\n",
    "\n",
    "# DataFrame 생성하기\n",
    "data = {'이름': ['Alice', 'Bob', 'Charlie'],\n",
    "        '나이': [25, 30, 35],\n",
    "        '도시': ['뉴욕', '파리', '런던']}\n",
    "df = pd.DataFrame(data)\n",
    "df.head()"
   ]
  },
  {
   "cell_type": "code",
   "execution_count": 3,
   "metadata": {},
   "outputs": [
    {
     "name": "stdout",
     "output_type": "stream",
     "text": [
      "\n",
      "데이터 접근하기:\n",
      "이름 열:\n",
      "0      Alice\n",
      "1        Bob\n",
      "2    Charlie\n",
      "Name: 이름, dtype: object\n",
      "나이와 도시 열:\n",
      "   나이  도시\n",
      "0  25  뉴욕\n",
      "1  30  파리\n",
      "2  35  런던\n",
      "첫 번째 행:\n",
      "이름    Alice\n",
      "나이       25\n",
      "도시       뉴욕\n",
      "Name: 0, dtype: object\n",
      "특정 셀:\n",
      "Bob\n"
     ]
    }
   ],
   "source": [
    "# 데이터 접근하기\n",
    "print(\"\\n데이터 접근하기:\")\n",
    "print(\"이름 열:\")\n",
    "print(df['이름'])\n",
    "print(\"나이와 도시 열:\")\n",
    "print(df[['나이', '도시']])\n",
    "print(\"첫 번째 행:\")\n",
    "print(df.iloc[0])\n",
    "print(\"특정 셀:\")\n",
    "print(df.at[1, '이름'])"
   ]
  },
  {
   "cell_type": "code",
   "execution_count": 4,
   "metadata": {},
   "outputs": [
    {
     "name": "stdout",
     "output_type": "stream",
     "text": [
      "\n",
      "요약 통계량:\n",
      "평균 나이: 30.0\n",
      "최대 나이: 35\n",
      "최소 나이: 25\n"
     ]
    }
   ],
   "source": [
    "# 요약 통계량\n",
    "print(\"\\n요약 통계량:\")\n",
    "print(\"평균 나이:\", df['나이'].mean())\n",
    "print(\"최대 나이:\", df['나이'].max())\n",
    "print(\"최소 나이:\", df['나이'].min())"
   ]
  },
  {
   "cell_type": "code",
   "execution_count": 5,
   "metadata": {},
   "outputs": [
    {
     "name": "stdout",
     "output_type": "stream",
     "text": [
      "\n",
      "데이터 필터링:\n",
      "필터링된 DataFrame:\n",
      "        이름  나이  도시\n",
      "2  Charlie  35  런던\n",
      "\n",
      "데이터 정렬:\n",
      "정렬된 DataFrame:\n",
      "        이름  나이  도시\n",
      "2  Charlie  35  런던\n",
      "1      Bob  30  파리\n",
      "0    Alice  25  뉴욕\n"
     ]
    }
   ],
   "source": [
    "# 데이터 필터링\n",
    "print(\"\\n데이터 필터링:\")\n",
    "filtered_df = df[df['나이'] > 30]\n",
    "print(\"필터링된 DataFrame:\")\n",
    "print(filtered_df)\n",
    "\n",
    "# 데이터 정렬\n",
    "print(\"\\n데이터 정렬:\")\n",
    "sorted_df = df.sort_values(by='나이', ascending=False)\n",
    "print(\"정렬된 DataFrame:\")\n",
    "print(sorted_df)"
   ]
  },
  {
   "cell_type": "code",
   "execution_count": 6,
   "metadata": {},
   "outputs": [
    {
     "name": "stdout",
     "output_type": "stream",
     "text": [
      "\n",
      "월급 열이 추가된 DataFrame:\n",
      "        이름  나이  도시     월급\n",
      "0    Alice  25  뉴욕  50000\n",
      "1      Bob  30  파리  60000\n",
      "2  Charlie  35  런던  70000\n",
      "\n",
      "도시 열을 삭제한 DataFrame:\n",
      "        이름  나이     월급\n",
      "0    Alice  25  50000\n",
      "1      Bob  30  60000\n",
      "2  Charlie  35  70000\n"
     ]
    }
   ],
   "source": [
    "# 새로운 열 추가하기\n",
    "df['월급'] = [50000, 60000, 70000]\n",
    "print(\"\\n월급 열이 추가된 DataFrame:\")\n",
    "print(df)\n",
    "\n",
    "# 열 삭제하기\n",
    "df = df.drop('도시', axis=1)\n",
    "print(\"\\n도시 열을 삭제한 DataFrame:\")\n",
    "print(df)"
   ]
  },
  {
   "cell_type": "code",
   "execution_count": 8,
   "metadata": {},
   "outputs": [
    {
     "name": "stdout",
     "output_type": "stream",
     "text": [
      "\n",
      "CSV 파일로부터 읽은 데이터: \n",
      "\n",
      "      Name  Age      City\n",
      "0    Alice   25  New York\n",
      "1      Bob   30     Paris\n",
      "2  Charlie   35    London\n"
     ]
    }
   ],
   "source": [
    "# CSV 파일로부터 읽기\n",
    "csv_data = pd.read_csv('data.csv')\n",
    "print(\"\\nCSV 파일로부터 읽은 데이터: \\n\")\n",
    "print(csv_data)"
   ]
  },
  {
   "cell_type": "code",
   "execution_count": null,
   "metadata": {},
   "outputs": [],
   "source": []
  }
 ],
 "metadata": {
  "kernelspec": {
   "display_name": "Python 3",
   "language": "python",
   "name": "python3"
  },
  "language_info": {
   "codemirror_mode": {
    "name": "ipython",
    "version": 3
   },
   "file_extension": ".py",
   "mimetype": "text/x-python",
   "name": "python",
   "nbconvert_exporter": "python",
   "pygments_lexer": "ipython3",
   "version": "3.10.11"
  },
  "orig_nbformat": 4
 },
 "nbformat": 4,
 "nbformat_minor": 2
}
