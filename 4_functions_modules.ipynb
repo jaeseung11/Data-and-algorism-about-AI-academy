{
 "cells": [
  {
   "cell_type": "code",
   "execution_count": 1,
   "metadata": {},
   "outputs": [
    {
     "name": "stdout",
     "output_type": "stream",
     "text": [
      "안녕하세요!\n"
     ]
    }
   ],
   "source": [
    "# Lesson: 함수와 모듈\n",
    "\n",
    "# 함수\n",
    "# 함수는 특정 작업을 수행하는 재사용 가능한 코드 블록입니다.\n",
    "\n",
    "# 함수 정의하기\n",
    "def greet():\n",
    "    print(\"안녕하세요!\")\n",
    "\n",
    "# 함수 호출하기\n",
    "greet()"
   ]
  },
  {
   "cell_type": "code",
   "execution_count": 2,
   "metadata": {},
   "outputs": [
    {
     "name": "stdout",
     "output_type": "stream",
     "text": [
      "Alice님, 안녕하세요!\n",
      "Bob님, 안녕하세요!\n"
     ]
    }
   ],
   "source": [
    "# 매개변수가 있는 함수\n",
    "def greet_person(name):\n",
    "    print(name + \"님, 안녕하세요!\")\n",
    "\n",
    "# 인자와 함께 함수 호출하기\n",
    "greet_person(\"Alice\")\n",
    "greet_person(\"Bob\")"
   ]
  },
  {
   "cell_type": "code",
   "execution_count": 3,
   "metadata": {},
   "outputs": [
    {
     "name": "stdout",
     "output_type": "stream",
     "text": [
      "결과: 8\n"
     ]
    }
   ],
   "source": [
    "# 반환 값이 있는 함수\n",
    "def add_numbers(x, y):\n",
    "    return x + y\n",
    "\n",
    "# 함수 호출하고 결과 저장하기\n",
    "result = add_numbers(3, 5)\n",
    "print(\"결과:\", result)"
   ]
  },
  {
   "cell_type": "code",
   "execution_count": 4,
   "metadata": {},
   "outputs": [
    {
     "name": "stdout",
     "output_type": "stream",
     "text": [
      "제곱근: 4.0\n"
     ]
    }
   ],
   "source": [
    "# 모듈\n",
    "# 모듈은 다른 프로그램에서 재사용할 수 있는 Python 코드를 포함하는 파일입니다.\n",
    "\n",
    "# 모듈 가져오기\n",
    "import math\n",
    "\n",
    "# math 모듈의 함수 사용하기\n",
    "square_root = math.sqrt(16)\n",
    "print(\"제곱근:\", square_root)"
   ]
  },
  {
   "cell_type": "code",
   "execution_count": 5,
   "metadata": {},
   "outputs": [
    {
     "name": "stdout",
     "output_type": "stream",
     "text": [
      "무작위 숫자: 5\n"
     ]
    }
   ],
   "source": [
    "# 특정 함수만 모듈에서 가져오기\n",
    "from random import randint\n",
    "\n",
    "# randint 함수 사용하기\n",
    "무작위_숫자 = randint(1, 10)\n",
    "print(\"무작위 숫자:\", 무작위_숫자)"
   ]
  },
  {
   "cell_type": "code",
   "execution_count": 6,
   "metadata": {},
   "outputs": [
    {
     "name": "stdout",
     "output_type": "stream",
     "text": [
      "Alice님, 안녕하세요!\n",
      "Bob님, 안녕하세요!\n"
     ]
    }
   ],
   "source": [
    "# 사용자 정의 모듈 가져오고 사용하기\n",
    "from my_module import say_hello\n",
    "\n",
    "say_hello(\"Alice\")\n",
    "say_hello(\"Bob\")"
   ]
  },
  {
   "cell_type": "code",
   "execution_count": null,
   "metadata": {},
   "outputs": [],
   "source": []
  }
 ],
 "metadata": {
  "kernelspec": {
   "display_name": "Python 3",
   "language": "python",
   "name": "python3"
  },
  "language_info": {
   "codemirror_mode": {
    "name": "ipython",
    "version": 3
   },
   "file_extension": ".py",
   "mimetype": "text/x-python",
   "name": "python",
   "nbconvert_exporter": "python",
   "pygments_lexer": "ipython3",
   "version": "3.11.3"
  },
  "orig_nbformat": 4
 },
 "nbformat": 4,
 "nbformat_minor": 2
}
