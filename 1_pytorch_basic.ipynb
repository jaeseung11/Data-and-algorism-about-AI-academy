{
 "cells": [
  {
   "cell_type": "code",
   "execution_count": 1,
   "metadata": {},
   "outputs": [],
   "source": [
    "# PyTorch Tutorial: Creating and Manipulating Tensors\n",
    "\n",
    "# Step 1: Import the necessary libraries\n",
    "import torch"
   ]
  },
  {
   "cell_type": "code",
   "execution_count": 2,
   "metadata": {},
   "outputs": [
    {
     "name": "stdout",
     "output_type": "stream",
     "text": [
      "Tensor from a list:\n",
      "tensor([1, 2, 3, 4, 5])\n"
     ]
    }
   ],
   "source": [
    "# Step 2: Creating Tensors\n",
    "# Creating a tensor from a list\n",
    "tensor_list = [1, 2, 3, 4, 5]\n",
    "tensor = torch.tensor(tensor_list)\n",
    "print(\"Tensor from a list:\")\n",
    "print(tensor)"
   ]
  },
  {
   "cell_type": "code",
   "execution_count": 13,
   "metadata": {},
   "outputs": [
    {
     "name": "stdout",
     "output_type": "stream",
     "text": [
      "\n",
      "Tensor from a NumPy array:\n",
      "tensor([ 6,  7,  8,  9, 10, 11])\n"
     ]
    }
   ],
   "source": [
    "# Creating a tensor from a NumPy array\n",
    "import numpy as np\n",
    "numpy_array = np.array([6, 7, 8, 9, 10, 11])\n",
    "tensor = torch.from_numpy(numpy_array)\n",
    "print(\"\\nTensor from a NumPy array:\")\n",
    "print(tensor)"
   ]
  },
  {
   "cell_type": "code",
   "execution_count": 14,
   "metadata": {},
   "outputs": [
    {
     "name": "stdout",
     "output_type": "stream",
     "text": [
      "\n",
      "Tensor with predefined values:\n",
      "Zeros:\n",
      "tensor([[0., 0., 0.],\n",
      "        [0., 0., 0.]])\n",
      "Ones:\n",
      "tensor([[1., 1., 1.],\n",
      "        [1., 1., 1.]])\n",
      "Random:\n",
      "tensor([[-1.6372,  0.5112,  1.3577],\n",
      "        [-0.3202, -0.2839,  0.2749]])\n"
     ]
    }
   ],
   "source": [
    "# Creating a tensor with predefined values\n",
    "tensor_zeros = torch.zeros((2, 3))\n",
    "tensor_ones = torch.ones((2, 3))\n",
    "tensor_rand = torch.randn((2, 3))\n",
    "print(\"\\nTensor with predefined values:\")\n",
    "print(\"Zeros:\")\n",
    "print(tensor_zeros)\n",
    "print(\"Ones:\")\n",
    "print(tensor_ones)\n",
    "print(\"Random:\")\n",
    "print(tensor_rand)"
   ]
  },
  {
   "cell_type": "code",
   "execution_count": 15,
   "metadata": {},
   "outputs": [
    {
     "name": "stdout",
     "output_type": "stream",
     "text": [
      "\n",
      "Shape of a tensor:\n",
      "torch.Size([2, 3])\n"
     ]
    }
   ],
   "source": [
    "# Step 3: Tensor Attributes and Operations\n",
    "# Shape of a tensor\n",
    "print(\"\\nShape of a tensor:\")\n",
    "print(tensor_zeros.shape)"
   ]
  },
  {
   "cell_type": "code",
   "execution_count": 16,
   "metadata": {},
   "outputs": [
    {
     "name": "stdout",
     "output_type": "stream",
     "text": [
      "\n",
      "Data type of a tensor:\n",
      "torch.float32\n"
     ]
    }
   ],
   "source": [
    "# Data type of a tensor\n",
    "print(\"\\nData type of a tensor:\")\n",
    "print(tensor_zeros.dtype)"
   ]
  },
  {
   "cell_type": "code",
   "execution_count": 33,
   "metadata": {},
   "outputs": [
    {
     "name": "stdout",
     "output_type": "stream",
     "text": [
      "\n",
      "Reshaped tensor:\n",
      "tensor([[ 6,  7,  8],\n",
      "        [ 9, 10, 11]])\n"
     ]
    }
   ],
   "source": [
    "# Reshaping a tensor\n",
    "tensor_reshape = tensor.view(2, 3)\n",
    "print(\"\\nReshaped tensor:\")\n",
    "print(tensor_reshape)"
   ]
  },
  {
   "cell_type": "code",
   "execution_count": 34,
   "metadata": {},
   "outputs": [
    {
     "name": "stdout",
     "output_type": "stream",
     "text": [
      "\n",
      "Element-wise multiplication:\n",
      "tensor([[ 6.,  7.,  8.],\n",
      "        [ 9., 10., 11.]])\n"
     ]
    }
   ],
   "source": [
    "# Element-wise multiplication\n",
    "tensor_mul = tensor_reshape * tensor_ones\n",
    "print(\"\\nElement-wise multiplication:\")\n",
    "print(tensor_mul)"
   ]
  },
  {
   "cell_type": "code",
   "execution_count": 47,
   "metadata": {},
   "outputs": [
    {
     "name": "stdout",
     "output_type": "stream",
     "text": [
      "\n",
      "Matrix multiplication:\n",
      "tensor([[13, 13, 13],\n",
      "        [17, 17, 17],\n",
      "        [21, 21, 21]])\n"
     ]
    }
   ],
   "source": [
    "# Matrix multiplication\n",
    "tensor_reshape = tensor_reshape.view(3,2)\n",
    "tensor_ones = tensor_ones.long()\n",
    "\n",
    "tensor_matmul = torch.matmul(tensor_reshape, tensor_ones)\n",
    "print(\"\\nMatrix multiplication:\")\n",
    "print(tensor_matmul)"
   ]
  },
  {
   "cell_type": "code",
   "execution_count": 46,
   "metadata": {},
   "outputs": [
    {
     "data": {
      "text/plain": [
       "tensor([[1., 1., 1.],\n",
       "        [1., 1., 1.]])"
      ]
     },
     "execution_count": 46,
     "metadata": {},
     "output_type": "execute_result"
    }
   ],
   "source": [
    "tensor_ones"
   ]
  },
  {
   "cell_type": "code",
   "execution_count": 27,
   "metadata": {},
   "outputs": [
    {
     "name": "stdout",
     "output_type": "stream",
     "text": [
      "\n",
      "Tensor to NumPy array:\n",
      "[ 6  7  8  9 10 11]\n"
     ]
    }
   ],
   "source": [
    "# Step 4: Tensor to NumPy Conversion\n",
    "numpy_array = tensor.numpy()\n",
    "print(\"\\nTensor to NumPy array:\")\n",
    "print(numpy_array)"
   ]
  },
  {
   "cell_type": "code",
   "execution_count": 28,
   "metadata": {},
   "outputs": [],
   "source": [
    "# Step 5: GPU Acceleration (if available)\n",
    "# Check if GPU is available\n",
    "if torch.cuda.is_available():\n",
    "    device = torch.device(\"cuda\")\n",
    "    tensor = tensor.to(device)\n",
    "    print(\"\\nTensor moved to GPU:\")\n",
    "    print(tensor)\n"
   ]
  },
  {
   "cell_type": "code",
   "execution_count": null,
   "metadata": {},
   "outputs": [],
   "source": []
  }
 ],
 "metadata": {
  "kernelspec": {
   "display_name": "Python 3",
   "language": "python",
   "name": "python3"
  },
  "language_info": {
   "codemirror_mode": {
    "name": "ipython",
    "version": 3
   },
   "file_extension": ".py",
   "mimetype": "text/x-python",
   "name": "python",
   "nbconvert_exporter": "python",
   "pygments_lexer": "ipython3",
   "version": "3.11.3"
  },
  "orig_nbformat": 4
 },
 "nbformat": 4,
 "nbformat_minor": 2
}
