{
 "cells": [
  {
   "cell_type": "code",
   "execution_count": 1,
   "metadata": {},
   "outputs": [],
   "source": [
    "# Lesson: NumPy 초급 튜토리얼\n",
    "\n",
    "# NumPy 가져오기\n",
    "import numpy as np"
   ]
  },
  {
   "cell_type": "code",
   "execution_count": 7,
   "metadata": {},
   "outputs": [
    {
     "name": "stdout",
     "output_type": "stream",
     "text": [
      "arr1의 첫 번째 요소: 1\n",
      "arr2의 1행 2열 요소: 6\n"
     ]
    }
   ],
   "source": [
    "# NumPy 배열 생성하기\n",
    "arr1 = np.array([1, 2, 3, 4, 5])\n",
    "arr2 = np.array([[1, 2, 3], [4, 5, 6]])\n",
    "\n",
    "# 배열 요소 접근하기\n",
    "print(\"arr1의 첫 번째 요소:\", arr1[0])\n",
    "print(\"arr2의 1행 2열 요소:\", arr2[1, 2])"
   ]
  },
  {
   "cell_type": "code",
   "execution_count": 3,
   "metadata": {},
   "outputs": [
    {
     "name": "stdout",
     "output_type": "stream",
     "text": [
      "arr1의 형태: (5,)\n",
      "arr2의 형태: (2, 3)\n",
      "arr1의 데이터 타입: int64\n",
      "arr2의 데이터 타입: int64\n"
     ]
    }
   ],
   "source": [
    "# 배열 속성\n",
    "print(\"arr1의 형태:\", arr1.shape)\n",
    "print(\"arr2의 형태:\", arr2.shape)\n",
    "print(\"arr1의 데이터 타입:\", arr1.dtype)\n",
    "print(\"arr2의 데이터 타입:\", arr2.dtype)"
   ]
  },
  {
   "cell_type": "code",
   "execution_count": 19,
   "metadata": {},
   "outputs": [
    {
     "name": "stdout",
     "output_type": "stream",
     "text": [
      "arr3: [3 4 5 6 7]\n",
      "arr4: [ 3  6  9 12 15]\n"
     ]
    }
   ],
   "source": [
    "# 배열 연산\n",
    "arr3 = arr1 + 2\n",
    "arr4 = arr1 * 3\n",
    "\n",
    "print(\"arr3:\", arr3)\n",
    "print(\"arr4:\", arr4)"
   ]
  },
  {
   "cell_type": "code",
   "execution_count": 10,
   "metadata": {},
   "outputs": [
    {
     "name": "stdout",
     "output_type": "stream",
     "text": [
      "arr1의 합계: 15\n",
      "arr2의 평균: 3.5\n",
      "arr1의 최댓값: 5\n",
      "arr2의 최솟값: 1\n"
     ]
    }
   ],
   "source": [
    "# 배열 함수\n",
    "print(\"arr1의 합계:\", np.sum(arr1))\n",
    "print(\"arr2의 평균:\", np.mean(arr2))\n",
    "print(\"arr1의 최댓값:\", np.max(arr1))\n",
    "print(\"arr2의 최솟값:\", np.min(arr2))"
   ]
  },
  {
   "cell_type": "code",
   "execution_count": 20,
   "metadata": {},
   "outputs": [
    {
     "name": "stdout",
     "output_type": "stream",
     "text": [
      "재구성된 배열: [[1 2 3]\n",
      " [4 5 6]]\n"
     ]
    }
   ],
   "source": [
    "# 배열 재구성\n",
    "arr5 = np.array([1, 2, 3, 4, 5, 6])\n",
    "reshaped_arr = arr5.reshape(2, 3)\n",
    "print(\"재구성된 배열:\", reshaped_arr)"
   ]
  },
  {
   "cell_type": "code",
   "execution_count": 21,
   "metadata": {},
   "outputs": [
    {
     "name": "stdout",
     "output_type": "stream",
     "text": [
      "슬라이싱된 배열: [2 3 4]\n"
     ]
    }
   ],
   "source": [
    "# 배열 슬라이싱\n",
    "arr6 = np.array([1, 2, 3, 4, 5])\n",
    "sliced_arr = arr6[1:4]\n",
    "print(\"슬라이싱된 배열:\", sliced_arr)"
   ]
  },
  {
   "cell_type": "code",
   "execution_count": 22,
   "metadata": {},
   "outputs": [
    {
     "name": "stdout",
     "output_type": "stream",
     "text": [
      "연결된 배열: [1 2 3 4 5 6]\n"
     ]
    }
   ],
   "source": [
    "# 배열 연결\n",
    "arr7 = np.array([1, 2, 3])\n",
    "arr9 = np.array([4, 5, 6])\n",
    "concatenated_arr = np.concatenate((arr7, arr9))\n",
    "print(\"연결된 배열:\", concatenated_arr)"
   ]
  },
  {
   "cell_type": "code",
   "execution_count": 24,
   "metadata": {},
   "outputs": [
    {
     "name": "stdout",
     "output_type": "stream",
     "text": [
      "스택된 배열: [[1 2 3]\n",
      " [4 5 6]]\n",
      "난수 배열: [[0.90572463 0.35138418]\n",
      " [0.04566681 0.69274882]\n",
      " [0.64526959 0.36546486]]\n"
     ]
    }
   ],
   "source": [
    "# 배열 스택\n",
    "stacked_arr = np.stack((arr7, arr9))\n",
    "print(\"스택된 배열:\", stacked_arr)\n",
    "\n",
    "# 난수 생성\n",
    "random_arr = np.random.rand(3, 2)\n",
    "print(\"난수 배열:\", random_arr)"
   ]
  },
  {
   "cell_type": "code",
   "execution_count": null,
   "metadata": {},
   "outputs": [],
   "source": []
  }
 ],
 "metadata": {
  "kernelspec": {
   "display_name": "Python 3",
   "language": "python",
   "name": "python3"
  },
  "language_info": {
   "codemirror_mode": {
    "name": "ipython",
    "version": 3
   },
   "file_extension": ".py",
   "mimetype": "text/x-python",
   "name": "python",
   "nbconvert_exporter": "python",
   "pygments_lexer": "ipython3",
   "version": "3.10.11"
  },
  "orig_nbformat": 4
 },
 "nbformat": 4,
 "nbformat_minor": 2
}
